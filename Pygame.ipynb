{
 "cells": [
  {
   "cell_type": "markdown",
   "metadata": {
    "id": "6GY1gHf-1eS4"
   },
   "source": [
    "# <center> Catch Me If You Can! - A Pygame Product<br>\n",
    "    \n",
    "<center>Developed by: Ricky Koppula (21112021) & Teena Davis (21112029)<br>\n",
    "    \n",
    "Pygame is a versatile and popular Python library that empowers game developers to create 2D games, simulations, and interactive applications. Leveraging the power of the Simple DirectMedia Layer (SDL), Pygame provides a user-friendly, cross-platform framework for managing game graphics, sound, and input devices, making it accessible for those looking to dive into game development. With a robust community and extensive documentation, Pygame facilitates the creation of games limited only by one's imagination. <br>\n",
    "    \n",
    "In this game, 'Catch Me If You Can!', players control a character on the screen, navigating it through a field filled with ghosts. The character's goal is to  \"capture\" the other ghost while avoiding the edges of the screen, losing lives for each collision. The game typically features a score system to track the player's success, and in some variants, it may incorporate high scores to motivate players to compete with their best"
   ]
  },
  {
   "cell_type": "code",
   "execution_count": 1,
   "metadata": {
    "id": "vh8yGkcB18SI"
   },
   "outputs": [
    {
     "name": "stdout",
     "output_type": "stream",
     "text": [
      "pygame 2.5.2 (SDL 2.28.3, Python 3.11.0)\n",
      "Hello from the pygame community. https://www.pygame.org/contribute.html\n"
     ]
    }
   ],
   "source": [
    "# Importing the necessary libraries\n",
    "import pygame\n",
    "import random"
   ]
  },
  {
   "cell_type": "code",
   "execution_count": 2,
   "metadata": {
    "id": "vDyUy2LC2AVT"
   },
   "outputs": [],
   "source": [
    "# Initiating the Pygame environment\n",
    "pygame.init()\n",
    "\n",
    "# Set the constraints\n",
    "WIDTH, HEIGHT = 800, 600\n",
    "LIFE_COLOR = (0, 255, 0)\n",
    "MAX_LIVES = 5\n",
    "HIGH_SCORES_FILE = \"highscore.txt\"\n",
    "\n",
    "# Set up the screen\n",
    "screen = pygame.display.set_mode((WIDTH, HEIGHT))\n",
    "pygame.display.set_caption(\"Catch Me If You Can!\")\n",
    "clock = pygame.time.Clock()"
   ]
  },
  {
   "cell_type": "code",
   "execution_count": 3,
   "metadata": {
    "id": "MNjCC31d2Ftx"
   },
   "outputs": [
    {
     "ename": "error",
     "evalue": "No file 'background_music.mp3' found in working directory '/Users/teena/Desktop/5BScDS/Advanced Python/Pygame'.",
     "output_type": "error",
     "traceback": [
      "\u001b[0;31m---------------------------------------------------------------------------\u001b[0m",
      "\u001b[0;31merror\u001b[0m                                     Traceback (most recent call last)",
      "Cell \u001b[0;32mIn[3], line 3\u001b[0m\n\u001b[1;32m      1\u001b[0m \u001b[38;5;66;03m# Load background music\u001b[39;00m\n\u001b[1;32m      2\u001b[0m pygame\u001b[38;5;241m.\u001b[39mmixer\u001b[38;5;241m.\u001b[39minit()\n\u001b[0;32m----> 3\u001b[0m pygame\u001b[38;5;241m.\u001b[39mmixer\u001b[38;5;241m.\u001b[39mmusic\u001b[38;5;241m.\u001b[39mload(\u001b[38;5;124m'\u001b[39m\u001b[38;5;124mbackground_music.mp3\u001b[39m\u001b[38;5;124m'\u001b[39m)\n\u001b[1;32m      5\u001b[0m \u001b[38;5;66;03m# Play background music\u001b[39;00m\n\u001b[1;32m      6\u001b[0m pygame\u001b[38;5;241m.\u001b[39mmixer\u001b[38;5;241m.\u001b[39mmusic\u001b[38;5;241m.\u001b[39mplay(\u001b[38;5;241m-\u001b[39m\u001b[38;5;241m1\u001b[39m)  \u001b[38;5;66;03m# -1 means the music will loop indefinitely\u001b[39;00m\n",
      "\u001b[0;31merror\u001b[0m: No file 'background_music.mp3' found in working directory '/Users/teena/Desktop/5BScDS/Advanced Python/Pygame'."
     ]
    }
   ],
   "source": [
    "# Load background music\n",
    "pygame.mixer.init()\n",
    "pygame.mixer.music.load('background_music.mp3')\n",
    "\n",
    "# Play background music\n",
    "pygame.mixer.music.play(-1)  # -1 means the music will loop indefinitely\n",
    "\n",
    "# Load the images for the strobe effect (background)\n",
    "image_files = ['t1.jpeg']\n",
    "background_images = [pygame.image.load(filename) for filename in image_files]\n",
    "\n",
    "# Resize the background images\n",
    "for i, image in enumerate(background_images):\n",
    "    background_images[i] = pygame.transform.scale(image, (WIDTH, HEIGHT))\n",
    "\n",
    "# Load the excorist and ghost images\n",
    "player_image = pygame.image.load('detective.png')\n",
    "player_image = pygame.transform.scale(player_image, (80, 80))\n",
    "ghost_image = pygame.image.load('ghost.png')\n",
    "ghost_image = pygame.transform.scale(ghost_image, (100, 100))"
   ]
  },
  {
   "cell_type": "code",
   "execution_count": null,
   "metadata": {
    "id": "6Bn3GG452N_L"
   },
   "outputs": [],
   "source": [
    "class Player:\n",
    "    def __init__(self):\n",
    "        self.image = player_image\n",
    "        self.rect = self.image.get_rect()\n",
    "        self.rect.center = (WIDTH // 2, HEIGHT // 2)\n",
    "        self.lives = MAX_LIVES\n",
    "        self.score = 0\n",
    "\n",
    "    def move(self):\n",
    "      # defines the direction and speed of the excorist\n",
    "        keys = pygame.key.get_pressed()\n",
    "        if keys[pygame.K_LEFT]:\n",
    "            self.rect.x -= 15\n",
    "        if keys[pygame.K_RIGHT]:\n",
    "            self.rect.x += 15\n",
    "        if keys[pygame.K_UP]:\n",
    "            self.rect.y -= 15\n",
    "        if keys[pygame.K_DOWN]:\n",
    "            self.rect.y += 15\n",
    "\n",
    "        # Ensure the player stays within the screen\n",
    "        self.rect.x = max(0, min(WIDTH - self.rect.width, self.rect.x))\n",
    "        self.rect.y = max(0, min(HEIGHT - self.rect.height, self.rect.y))\n",
    "\n",
    "    def draw(self):\n",
    "        screen.blit(self.image, self.rect)"
   ]
  },
  {
   "cell_type": "code",
   "execution_count": null,
   "metadata": {
    "id": "E6adyJHH2PMQ"
   },
   "outputs": [],
   "source": [
    "ghost = []\n",
    "# define function to display ghost appearance on the screen with random library\n",
    "def create_ghost1():\n",
    "    x = random.randint(0, WIDTH - ghost_image.get_width())\n",
    "    y = random.randint(0, HEIGHT - ghost_image.get_height())\n",
    "    ghost.append(pygame.Rect(x, y, ghost_image.get_width(), ghost_image.get_height()))\n",
    "\n",
    "create_ghost1()"
   ]
  },
  {
   "cell_type": "code",
   "execution_count": null,
   "metadata": {
    "id": "PfnrjlgPrk-v"
   },
   "outputs": [],
   "source": [
    "running = True\n",
    "player = Player()\n",
    "\n",
    "background_image_index = 0\n",
    "background_change_rate = 30  # Adjust this value to control the background change speed\n",
    "\n",
    "# Font for scoreboard and high scores\n",
    "font = pygame.font.Font(None, 36)\n",
    "high_scores_font = pygame.font.Font(None, 36)\n",
    "\n",
    "# Load high scores from a file or create an empty list\n",
    "high_scores = []\n",
    "try:\n",
    "    with open(HIGH_SCORES_FILE, 'r') as file:\n",
    "        high_scores = [int(line.strip()) for line in file.readlines()]\n",
    "except FileNotFoundError:\n",
    "    pass\n",
    "\n",
    "while running:\n",
    "    for event in pygame.event.get():\n",
    "        if event.type == pygame.QUIT:\n",
    "            running = False\n",
    "\n",
    "    player.move()\n",
    "    screen.fill((124, 124, 124))\n",
    "\n",
    "    # Display the background strobe effect\n",
    "    screen.blit(background_images[background_image_index], (0, 0))\n",
    "\n",
    "    # Check for collisions with small balls\n",
    "    for ghost1 in ghost[:]:\n",
    "        if player.rect.colliderect(ghost1):\n",
    "            ghost.remove(ghost1)\n",
    "            create_ghost1()\n",
    "            player.score += 1\n",
    "\n",
    "    player.draw()\n",
    "\n",
    "    for ghost1 in ghost:\n",
    "        screen.blit(ghost_image, ghost1)\n",
    "\n",
    "    # Check for collisions with the edges\n",
    "    if (\n",
    "        player.rect.left <= 0\n",
    "        or player.rect.right >= WIDTH\n",
    "        or player.rect.top <= 0\n",
    "        or player.rect.bottom >= HEIGHT\n",
    "    ):\n",
    "        player.lives -= 1\n",
    "        if player.lives == 0:\n",
    "            # Update high scores\n",
    "            if not high_scores or player.score > min(high_scores):\n",
    "                high_scores.append(player.score)\n",
    "                high_scores.sort(reverse=True)\n",
    "                high_scores = high_scores[:1]  # Keep the top 5 high scores\n",
    "                with open(HIGH_SCORES_FILE, 'w') as file:\n",
    "                    for score in high_scores:\n",
    "                        file.write(str(score) + '\\n')\n",
    "            running = False\n",
    "\n",
    "    pygame.display.update()\n",
    "    clock.tick(background_change_rate)  # Adjust the background change speed here\n",
    "\n",
    "    background_image_index = (background_image_index + 1) % len(background_images)\n",
    "\n",
    "    # Display the scoreboard and high scores\n",
    "    score_text = font.render(f'Score: {player.score}', True, LIFE_COLOR)\n",
    "    screen.blit(score_text, (10, 40))\n",
    "    high_scores_text = high_scores_font.render(\"High Scores:\", True, LIFE_COLOR)\n",
    "    screen.blit(high_scores_text, (10, 70))\n",
    "    for i, score in enumerate(high_scores):\n",
    "        score_text = high_scores_font.render(f\"{score}\", True, LIFE_COLOR)\n",
    "        screen.blit(score_text, (160, 70))\n",
    "    pygame.display.update()\n",
    "    clock.tick(80)\n",
    "\n",
    "# Game over screen\n",
    "font = pygame.font.Font(None, 36)\n",
    "game_over_text = font.render(\"Game Over\", True, LIFE_COLOR)\n",
    "screen.blit(game_over_text, (WIDTH // 2 - 100, HEIGHT // 2 - 18))\n",
    "pygame.display.update()\n",
    "\n",
    "# Stop the background music\n",
    "pygame.mixer.music.stop()\n",
    "\n",
    "pygame.time.delay(2000)\n",
    "\n",
    "pygame.quit()\n"
   ]
  }
 ],
 "metadata": {
  "colab": {
   "provenance": []
  },
  "kernelspec": {
   "display_name": "Python 3 (ipykernel)",
   "language": "python",
   "name": "python3"
  },
  "language_info": {
   "codemirror_mode": {
    "name": "ipython",
    "version": 3
   },
   "file_extension": ".py",
   "mimetype": "text/x-python",
   "name": "python",
   "nbconvert_exporter": "python",
   "pygments_lexer": "ipython3",
   "version": "3.11.0"
  }
 },
 "nbformat": 4,
 "nbformat_minor": 1
}
